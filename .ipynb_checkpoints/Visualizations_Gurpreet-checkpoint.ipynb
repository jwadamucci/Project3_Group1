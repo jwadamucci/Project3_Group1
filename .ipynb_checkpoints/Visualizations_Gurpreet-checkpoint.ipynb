{
 "cells": [
  {
   "cell_type": "code",
   "execution_count": 32,
   "id": "bc760917-5d72-41f9-8919-bc399eaa1da2",
   "metadata": {},
   "outputs": [],
   "source": [
    "import pandas as pd\n",
    "import matplotlib.pyplot as plt"
   ]
  },
  {
   "cell_type": "markdown",
   "id": "b33a300a",
   "metadata": {},
   "source": [
    "**DATA EXPLORATION**"
   ]
  },
  {
   "cell_type": "code",
   "execution_count": 33,
   "id": "bdd2419c",
   "metadata": {},
   "outputs": [
    {
     "name": "stdout",
     "output_type": "stream",
     "text": [
      "(Records, Columns) of final_df: (28242, 8)\n"
     ]
    },
    {
     "data": {
      "text/html": [
       "<div>\n",
       "<style scoped>\n",
       "    .dataframe tbody tr th:only-of-type {\n",
       "        vertical-align: middle;\n",
       "    }\n",
       "\n",
       "    .dataframe tbody tr th {\n",
       "        vertical-align: top;\n",
       "    }\n",
       "\n",
       "    .dataframe thead th {\n",
       "        text-align: right;\n",
       "    }\n",
       "</style>\n",
       "<table border=\"1\" class=\"dataframe\">\n",
       "  <thead>\n",
       "    <tr style=\"text-align: right;\">\n",
       "      <th></th>\n",
       "      <th>region</th>\n",
       "      <th>crop</th>\n",
       "      <th>year</th>\n",
       "      <th>yield_hg_ha</th>\n",
       "      <th>yield_t_ha</th>\n",
       "      <th>rainfall_mm</th>\n",
       "      <th>avg_temp_c</th>\n",
       "      <th>pesticide_t</th>\n",
       "    </tr>\n",
       "  </thead>\n",
       "  <tbody>\n",
       "    <tr>\n",
       "      <th>0</th>\n",
       "      <td>Albania</td>\n",
       "      <td>Maize</td>\n",
       "      <td>1990</td>\n",
       "      <td>36613</td>\n",
       "      <td>366.13</td>\n",
       "      <td>1485.0</td>\n",
       "      <td>16.37</td>\n",
       "      <td>121.0</td>\n",
       "    </tr>\n",
       "    <tr>\n",
       "      <th>1</th>\n",
       "      <td>Albania</td>\n",
       "      <td>Maize</td>\n",
       "      <td>1991</td>\n",
       "      <td>29068</td>\n",
       "      <td>290.68</td>\n",
       "      <td>1485.0</td>\n",
       "      <td>15.36</td>\n",
       "      <td>121.0</td>\n",
       "    </tr>\n",
       "    <tr>\n",
       "      <th>2</th>\n",
       "      <td>Albania</td>\n",
       "      <td>Maize</td>\n",
       "      <td>1992</td>\n",
       "      <td>24876</td>\n",
       "      <td>248.76</td>\n",
       "      <td>1485.0</td>\n",
       "      <td>16.06</td>\n",
       "      <td>121.0</td>\n",
       "    </tr>\n",
       "    <tr>\n",
       "      <th>3</th>\n",
       "      <td>Albania</td>\n",
       "      <td>Maize</td>\n",
       "      <td>1993</td>\n",
       "      <td>24185</td>\n",
       "      <td>241.85</td>\n",
       "      <td>1485.0</td>\n",
       "      <td>16.05</td>\n",
       "      <td>121.0</td>\n",
       "    </tr>\n",
       "    <tr>\n",
       "      <th>4</th>\n",
       "      <td>Albania</td>\n",
       "      <td>Maize</td>\n",
       "      <td>1994</td>\n",
       "      <td>25848</td>\n",
       "      <td>258.48</td>\n",
       "      <td>1485.0</td>\n",
       "      <td>16.96</td>\n",
       "      <td>201.0</td>\n",
       "    </tr>\n",
       "  </tbody>\n",
       "</table>\n",
       "</div>"
      ],
      "text/plain": [
       "    region   crop  year  yield_hg_ha  yield_t_ha  rainfall_mm  avg_temp_c  \\\n",
       "0  Albania  Maize  1990        36613      366.13       1485.0       16.37   \n",
       "1  Albania  Maize  1991        29068      290.68       1485.0       15.36   \n",
       "2  Albania  Maize  1992        24876      248.76       1485.0       16.06   \n",
       "3  Albania  Maize  1993        24185      241.85       1485.0       16.05   \n",
       "4  Albania  Maize  1994        25848      258.48       1485.0       16.96   \n",
       "\n",
       "   pesticide_t  \n",
       "0        121.0  \n",
       "1        121.0  \n",
       "2        121.0  \n",
       "3        121.0  \n",
       "4        201.0  "
      ]
     },
     "execution_count": 33,
     "metadata": {},
     "output_type": "execute_result"
    }
   ],
   "source": [
    "# Load the Final CSV files into DataFrame\n",
    "final_path = '/Users/GURU/Desktop/Project3_Group1/Resources/final_crop_data.csv'     \n",
    "# Read the CSV file into DataFrame\n",
    "final_df = pd.read_csv(final_path)\n",
    "# Check the shape of the DataFrame  \n",
    "print(f\"(Records, Columns) of final_df: {final_df.shape}\")\n",
    "final_df.head()\n",
    "\n",
    "         "
   ]
  },
  {
   "cell_type": "code",
   "execution_count": 34,
   "id": "075a78d9",
   "metadata": {},
   "outputs": [
    {
     "data": {
      "text/html": [
       "<div>\n",
       "<style scoped>\n",
       "    .dataframe tbody tr th:only-of-type {\n",
       "        vertical-align: middle;\n",
       "    }\n",
       "\n",
       "    .dataframe tbody tr th {\n",
       "        vertical-align: top;\n",
       "    }\n",
       "\n",
       "    .dataframe thead th {\n",
       "        text-align: right;\n",
       "    }\n",
       "</style>\n",
       "<table border=\"1\" class=\"dataframe\">\n",
       "  <thead>\n",
       "    <tr style=\"text-align: right;\">\n",
       "      <th></th>\n",
       "      <th>year</th>\n",
       "      <th>yield_hg_ha</th>\n",
       "      <th>yield_t_ha</th>\n",
       "      <th>rainfall_mm</th>\n",
       "      <th>avg_temp_c</th>\n",
       "      <th>pesticide_t</th>\n",
       "    </tr>\n",
       "  </thead>\n",
       "  <tbody>\n",
       "    <tr>\n",
       "      <th>count</th>\n",
       "      <td>28242.000000</td>\n",
       "      <td>28242.000000</td>\n",
       "      <td>28242.000000</td>\n",
       "      <td>28242.00000</td>\n",
       "      <td>28242.000000</td>\n",
       "      <td>28242.000000</td>\n",
       "    </tr>\n",
       "    <tr>\n",
       "      <th>mean</th>\n",
       "      <td>2001.544296</td>\n",
       "      <td>77053.332094</td>\n",
       "      <td>770.533321</td>\n",
       "      <td>1149.05598</td>\n",
       "      <td>20.542627</td>\n",
       "      <td>37076.909344</td>\n",
       "    </tr>\n",
       "    <tr>\n",
       "      <th>std</th>\n",
       "      <td>7.051905</td>\n",
       "      <td>84956.612897</td>\n",
       "      <td>849.566129</td>\n",
       "      <td>709.81215</td>\n",
       "      <td>6.312051</td>\n",
       "      <td>59958.784665</td>\n",
       "    </tr>\n",
       "    <tr>\n",
       "      <th>min</th>\n",
       "      <td>1990.000000</td>\n",
       "      <td>50.000000</td>\n",
       "      <td>0.500000</td>\n",
       "      <td>51.00000</td>\n",
       "      <td>1.300000</td>\n",
       "      <td>0.040000</td>\n",
       "    </tr>\n",
       "    <tr>\n",
       "      <th>25%</th>\n",
       "      <td>1995.000000</td>\n",
       "      <td>19919.250000</td>\n",
       "      <td>199.192500</td>\n",
       "      <td>593.00000</td>\n",
       "      <td>16.702500</td>\n",
       "      <td>1702.000000</td>\n",
       "    </tr>\n",
       "    <tr>\n",
       "      <th>50%</th>\n",
       "      <td>2001.000000</td>\n",
       "      <td>38295.000000</td>\n",
       "      <td>382.950000</td>\n",
       "      <td>1083.00000</td>\n",
       "      <td>21.510000</td>\n",
       "      <td>17529.440000</td>\n",
       "    </tr>\n",
       "    <tr>\n",
       "      <th>75%</th>\n",
       "      <td>2008.000000</td>\n",
       "      <td>104676.750000</td>\n",
       "      <td>1046.767500</td>\n",
       "      <td>1668.00000</td>\n",
       "      <td>26.000000</td>\n",
       "      <td>48687.880000</td>\n",
       "    </tr>\n",
       "    <tr>\n",
       "      <th>max</th>\n",
       "      <td>2013.000000</td>\n",
       "      <td>501412.000000</td>\n",
       "      <td>5014.120000</td>\n",
       "      <td>3240.00000</td>\n",
       "      <td>30.650000</td>\n",
       "      <td>367778.000000</td>\n",
       "    </tr>\n",
       "  </tbody>\n",
       "</table>\n",
       "</div>"
      ],
      "text/plain": [
       "               year    yield_hg_ha    yield_t_ha  rainfall_mm    avg_temp_c  \\\n",
       "count  28242.000000   28242.000000  28242.000000  28242.00000  28242.000000   \n",
       "mean    2001.544296   77053.332094    770.533321   1149.05598     20.542627   \n",
       "std        7.051905   84956.612897    849.566129    709.81215      6.312051   \n",
       "min     1990.000000      50.000000      0.500000     51.00000      1.300000   \n",
       "25%     1995.000000   19919.250000    199.192500    593.00000     16.702500   \n",
       "50%     2001.000000   38295.000000    382.950000   1083.00000     21.510000   \n",
       "75%     2008.000000  104676.750000   1046.767500   1668.00000     26.000000   \n",
       "max     2013.000000  501412.000000   5014.120000   3240.00000     30.650000   \n",
       "\n",
       "         pesticide_t  \n",
       "count   28242.000000  \n",
       "mean    37076.909344  \n",
       "std     59958.784665  \n",
       "min         0.040000  \n",
       "25%      1702.000000  \n",
       "50%     17529.440000  \n",
       "75%     48687.880000  \n",
       "max    367778.000000  "
      ]
     },
     "execution_count": 34,
     "metadata": {},
     "output_type": "execute_result"
    }
   ],
   "source": [
    "final_df.describe()"
   ]
  },
  {
   "cell_type": "code",
   "execution_count": 35,
   "id": "28f239d3",
   "metadata": {},
   "outputs": [
    {
     "data": {
      "text/plain": [
       "101"
      ]
     },
     "execution_count": 35,
     "metadata": {},
     "output_type": "execute_result"
    }
   ],
   "source": [
    "final_df['region'].nunique()"
   ]
  },
  {
   "cell_type": "code",
   "execution_count": 36,
   "id": "f03a3024",
   "metadata": {},
   "outputs": [
    {
     "data": {
      "text/plain": [
       "region\n",
       "India             327420324\n",
       "Brazil            167550306\n",
       "Mexico            130788528\n",
       "Japan             124470912\n",
       "Australia         109111062\n",
       "Pakistan           73897434\n",
       "Indonesia          69193506\n",
       "United Kingdom     55419990\n",
       "Turkey             52263950\n",
       "Spain              46773540\n",
       "Name: yield_hg_ha, dtype: int64"
      ]
     },
     "execution_count": 36,
     "metadata": {},
     "output_type": "execute_result"
    }
   ],
   "source": [
    "# Country with highest yield in hectares\n",
    "final_df.groupby(['region'],sort=True)['yield_hg_ha'].sum().nlargest(10)\n"
   ]
  },
  {
   "cell_type": "code",
   "execution_count": 37,
   "id": "f251f42f",
   "metadata": {},
   "outputs": [
    {
     "data": {
      "text/plain": [
       "crop            region        \n",
       "Cassava         India             142810624\n",
       "Potatoes        India              92122514\n",
       "                Brazil             49602168\n",
       "                United Kingdom     46705145\n",
       "                Australia          45670386\n",
       "Sweet potatoes  India              44439538\n",
       "Potatoes        Japan              42918726\n",
       "                Mexico             42053880\n",
       "Sweet potatoes  Mexico             35808592\n",
       "                Australia          35550294\n",
       "Name: yield_hg_ha, dtype: int64"
      ]
     },
     "execution_count": 37,
     "metadata": {},
     "output_type": "execute_result"
    }
   ],
   "source": [
    "final_df.groupby(['crop', 'region'], sort=True)['yield_hg_ha'].sum().nlargest(10)"
   ]
  },
  {
   "cell_type": "markdown",
   "id": "48b5de3e",
   "metadata": {},
   "source": [
    "**Time Series: Crop Yield Over Time**"
   ]
  },
  {
   "cell_type": "code",
   "execution_count": 38,
   "id": "48ada477",
   "metadata": {},
   "outputs": [
    {
     "data": {
      "image/png": "[encoded data removed]",
      "text/plain": [
       "<Figure size 1200x700 with 1 Axes>"
      ]
     },
     "metadata": {},
     "output_type": "display_data"
    }
   ],
   "source": [
    "# Filter the data for Region as \"India\", Crop as \"Wheat\", and Year >= 1990\n",
    "filtered_data = final_df[(final_df['region'] == 'India') & (final_df['crop'] == 'Wheat') & (final_df['year'] >= 1990)]\n",
    "\n",
    "# Create a figure and axis\n",
    "plt.figure(figsize=(12, 7))\n",
    "\n",
    "# Plot the Wheat Yield over the years with enhancements\n",
    "plt.plot(filtered_data['year'], filtered_data['yield_hg_ha'], \n",
    "         marker='o', linestyle='-', color='#ff6600', \n",
    "         label='Wheat Yield in India', linewidth=2)\n",
    "\n",
    "# Add a shaded region to highlight certain years (e.g., 2000–2010)\n",
    "plt.axvspan(2000, 2010, color='#d3f8e2', alpha=0.3, label='Highlighted Years')\n",
    "\n",
    "# Add annotations for key data points\n",
    "for year, yield_value in zip(filtered_data['year'], filtered_data['yield_hg_ha']):\n",
    "    if year % 5 == 0:  # Annotate every 5 years\n",
    "        plt.text(year, yield_value + 100, f'{yield_value:.0f}', fontsize=9, \n",
    "                 color='blue', ha='center')\n",
    "\n",
    "# Customize the plot\n",
    "plt.xlabel('Year', fontsize=12)\n",
    "plt.ylabel('Yield (hg/ha)', fontsize=12)\n",
    "plt.title('Wheat Yield in India (1990–2020)', fontsize=14, fontweight='bold')\n",
    "plt.grid(True, linestyle='--', alpha=0.6)\n",
    "plt.legend( fontsize=10)\n",
    "plt.style.use('ggplot')  # Apply a visual style\n",
    "\n",
    "# Add a background color to the figure\n",
    "plt.gca().set_facecolor('#f5f5f5')  # Set a light gray background for the plot\n",
    "\n",
    "# Display the plot\n",
    "plt.tight_layout()\n",
    "plt.show()\n"
   ]
  },
  {
   "cell_type": "code",
   "execution_count": 41,
   "id": "19291904",
   "metadata": {},
   "outputs": [
    {
     "ename": "FileNotFoundError",
     "evalue": "The GeoJSON file was not found at the specified path: /Users/GURU/Desktop/Project3_Group1/Resources/countries.geojson",
     "output_type": "error",
     "traceback": [
      "\u001b[0;31m---------------------------------------------------------------------------\u001b[0m",
      "\u001b[0;31mFileNotFoundError\u001b[0m                         Traceback (most recent call last)",
      "Cell \u001b[0;32mIn[41], line 13\u001b[0m\n\u001b[1;32m     11\u001b[0m \u001b[38;5;66;03m# Check if the file exists\u001b[39;00m\n\u001b[1;32m     12\u001b[0m \u001b[38;5;28;01mif\u001b[39;00m \u001b[38;5;129;01mnot\u001b[39;00m os\u001b[38;5;241m.\u001b[39mpath\u001b[38;5;241m.\u001b[39mexists(geojson_path):\n\u001b[0;32m---> 13\u001b[0m     \u001b[38;5;28;01mraise\u001b[39;00m \u001b[38;5;167;01mFileNotFoundError\u001b[39;00m(\u001b[38;5;124mf\u001b[39m\u001b[38;5;124m\"\u001b[39m\u001b[38;5;124mThe GeoJSON file was not found at the specified path: \u001b[39m\u001b[38;5;132;01m{\u001b[39;00mgeojson_path\u001b[38;5;132;01m}\u001b[39;00m\u001b[38;5;124m\"\u001b[39m)\n\u001b[1;32m     15\u001b[0m geo_data \u001b[38;5;241m=\u001b[39m gpd\u001b[38;5;241m.\u001b[39mread_file(geojson_path)\n\u001b[1;32m     17\u001b[0m \u001b[38;5;66;03m# Step 4: Prepare the aggregated DataFrame\u001b[39;00m\n\u001b[1;32m     18\u001b[0m \u001b[38;5;66;03m# Aggregate the data to calculate the mean yield_t_ha for each region\u001b[39;00m\n",
      "\u001b[0;31mFileNotFoundError\u001b[0m: The GeoJSON file was not found at the specified path: /Users/GURU/Desktop/Project3_Group1/Resources/countries.geojson"
     ]
    }
   ],
   "source": [
    "import folium\n",
    "import pandas as pd\n",
    "import geopandas as gpd\n",
    "\n",
    "# Step 3: Load GeoJSON file for country boundaries\n",
    "# Provide the correct path to the GeoJSON file\n",
    "import os\n",
    "\n",
    "geojson_path = \"/Users/GURU/Desktop/Project3_Group1/Resources/countries.geojson\"  # Update this path if necessary\n",
    "\n",
    "# Check if the file exists\n",
    "if not os.path.exists(geojson_path):\n",
    "    raise FileNotFoundError(f\"The GeoJSON file was not found at the specified path: {geojson_path}\")\n",
    "\n",
    "geo_data = gpd.read_file(geojson_path)\n",
    "\n",
    "# Step 4: Prepare the aggregated DataFrame\n",
    "# Aggregate the data to calculate the mean yield_t_ha for each region\n",
    "aggregated = final_df.groupby('region', as_index=False).agg({'yield_t_ha': 'mean'})\n",
    "\n",
    "# Merge GeoJSON with your dataset\n",
    "# Make sure the region names in your dataset match those in the GeoJSON file\n",
    "merged = geo_data.merge(aggregated, left_on=\"ADMIN\", right_on=\"region\", how=\"left\")\n",
    "\n",
    "# Step 5: Initialize the folium map\n",
    "m = folium.Map(location=[0, 0], zoom_start=2)\n",
    "\n",
    "# Step 6: Add a choropleth layer for yield_t_ha\n",
    "folium.Choropleth(\n",
    "    geo_data=merged,\n",
    "    data=merged,\n",
    "    columns=[\"region\", \"yield_t_ha\"],  # Adjust for the column to visualize\n",
    "    key_on=\"feature.properties.ADMIN\",  # Matches GeoJSON \"ADMIN\" property\n",
    "    fill_color=\"YlGn\",  # Green color scheme\n",
    "    fill_opacity=0.7,\n",
    "    line_opacity=0.2,\n",
    "    legend_name=\"Crop Yield (tons/hectare)\"\n",
    ").add_to(m)\n",
    "\n",
    "# Step 7: Save the map as HTML\n",
    "m.save(\"choropleth_map.html\")\n"
   ]
  },
  {
   "cell_type": "code",
   "execution_count": null,
   "id": "d7b75a59",
   "metadata": {},
   "outputs": [],
   "source": []
  },
  {
   "cell_type": "code",
   "execution_count": null,
   "id": "23e317af",
   "metadata": {},
   "outputs": [],
   "source": []
  }
 ],
 "metadata": {
  "kernelspec": {
   "display_name": "dev",
   "language": "python",
   "name": "python3"
  },
  "language_info": {
   "codemirror_mode": {
    "name": "ipython",
    "version": 3
   },
   "file_extension": ".py",
   "mimetype": "text/x-python",
   "name": "python",
   "nbconvert_exporter": "python",
   "pygments_lexer": "ipython3",
   "version": "3.10.16"
  }
 },
 "nbformat": 4,
 "nbformat_minor": 5
}
