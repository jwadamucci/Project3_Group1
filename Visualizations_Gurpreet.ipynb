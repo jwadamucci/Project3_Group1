{
 "cells": [
  {
   "cell_type": "code",
   "execution_count": 1,
   "id": "bc760917-5d72-41f9-8919-bc399eaa1da2",
   "metadata": {},
   "outputs": [],
   "source": [
    "import pandas as pd\n",
    "import matplotlib.pyplot as plt\n",
    "import folium\n",
    "import pandas as pd\n",
    "import geopandas as gpd"
   ]
  },
  {
   "cell_type": "markdown",
   "id": "b33a300a",
   "metadata": {},
   "source": [
    "**DATA EXPLORATION**"
   ]
  },
  {
   "cell_type": "code",
   "execution_count": 2,
   "id": "bdd2419c",
   "metadata": {},
   "outputs": [
    {
     "name": "stdout",
     "output_type": "stream",
     "text": [
      "(Records, Columns) of final_df: (28242, 8)\n"
     ]
    },
    {
     "data": {
      "text/html": [
       "<div>\n",
       "<style scoped>\n",
       "    .dataframe tbody tr th:only-of-type {\n",
       "        vertical-align: middle;\n",
       "    }\n",
       "\n",
       "    .dataframe tbody tr th {\n",
       "        vertical-align: top;\n",
       "    }\n",
       "\n",
       "    .dataframe thead th {\n",
       "        text-align: right;\n",
       "    }\n",
       "</style>\n",
       "<table border=\"1\" class=\"dataframe\">\n",
       "  <thead>\n",
       "    <tr style=\"text-align: right;\">\n",
       "      <th></th>\n",
       "      <th>region</th>\n",
       "      <th>crop</th>\n",
       "      <th>year</th>\n",
       "      <th>yield_hg_ha</th>\n",
       "      <th>yield_t_ha</th>\n",
       "      <th>rainfall_mm</th>\n",
       "      <th>avg_temp_c</th>\n",
       "      <th>pesticide_t</th>\n",
       "    </tr>\n",
       "  </thead>\n",
       "  <tbody>\n",
       "    <tr>\n",
       "      <th>0</th>\n",
       "      <td>Albania</td>\n",
       "      <td>Maize</td>\n",
       "      <td>1990</td>\n",
       "      <td>36613</td>\n",
       "      <td>366.13</td>\n",
       "      <td>1485.0</td>\n",
       "      <td>16.37</td>\n",
       "      <td>121.0</td>\n",
       "    </tr>\n",
       "    <tr>\n",
       "      <th>1</th>\n",
       "      <td>Albania</td>\n",
       "      <td>Maize</td>\n",
       "      <td>1991</td>\n",
       "      <td>29068</td>\n",
       "      <td>290.68</td>\n",
       "      <td>1485.0</td>\n",
       "      <td>15.36</td>\n",
       "      <td>121.0</td>\n",
       "    </tr>\n",
       "    <tr>\n",
       "      <th>2</th>\n",
       "      <td>Albania</td>\n",
       "      <td>Maize</td>\n",
       "      <td>1992</td>\n",
       "      <td>24876</td>\n",
       "      <td>248.76</td>\n",
       "      <td>1485.0</td>\n",
       "      <td>16.06</td>\n",
       "      <td>121.0</td>\n",
       "    </tr>\n",
       "    <tr>\n",
       "      <th>3</th>\n",
       "      <td>Albania</td>\n",
       "      <td>Maize</td>\n",
       "      <td>1993</td>\n",
       "      <td>24185</td>\n",
       "      <td>241.85</td>\n",
       "      <td>1485.0</td>\n",
       "      <td>16.05</td>\n",
       "      <td>121.0</td>\n",
       "    </tr>\n",
       "    <tr>\n",
       "      <th>4</th>\n",
       "      <td>Albania</td>\n",
       "      <td>Maize</td>\n",
       "      <td>1994</td>\n",
       "      <td>25848</td>\n",
       "      <td>258.48</td>\n",
       "      <td>1485.0</td>\n",
       "      <td>16.96</td>\n",
       "      <td>201.0</td>\n",
       "    </tr>\n",
       "  </tbody>\n",
       "</table>\n",
       "</div>"
      ],
      "text/plain": [
       "    region   crop  year  yield_hg_ha  yield_t_ha  rainfall_mm  avg_temp_c  \\\n",
       "0  Albania  Maize  1990        36613      366.13       1485.0       16.37   \n",
       "1  Albania  Maize  1991        29068      290.68       1485.0       15.36   \n",
       "2  Albania  Maize  1992        24876      248.76       1485.0       16.06   \n",
       "3  Albania  Maize  1993        24185      241.85       1485.0       16.05   \n",
       "4  Albania  Maize  1994        25848      258.48       1485.0       16.96   \n",
       "\n",
       "   pesticide_t  \n",
       "0        121.0  \n",
       "1        121.0  \n",
       "2        121.0  \n",
       "3        121.0  \n",
       "4        201.0  "
      ]
     },
     "execution_count": 2,
     "metadata": {},
     "output_type": "execute_result"
    }
   ],
   "source": [
    "# Load the Final CSV files into DataFrame\n",
    "final_path = '/Users/GURU/Desktop/Project3_Group1/Resources/final_crop_data.csv'     \n",
    "# Read the CSV file into DataFrame\n",
    "final_df = pd.read_csv(final_path)\n",
    "# Check the shape of the DataFrame  \n",
    "print(f\"(Records, Columns) of final_df: {final_df.shape}\")\n",
    "final_df.head()"
   ]
  },
  {
   "cell_type": "code",
   "execution_count": 3,
   "id": "075a78d9",
   "metadata": {},
   "outputs": [
    {
     "data": {
      "text/html": [
       "<div>\n",
       "<style scoped>\n",
       "    .dataframe tbody tr th:only-of-type {\n",
       "        vertical-align: middle;\n",
       "    }\n",
       "\n",
       "    .dataframe tbody tr th {\n",
       "        vertical-align: top;\n",
       "    }\n",
       "\n",
       "    .dataframe thead th {\n",
       "        text-align: right;\n",
       "    }\n",
       "</style>\n",
       "<table border=\"1\" class=\"dataframe\">\n",
       "  <thead>\n",
       "    <tr style=\"text-align: right;\">\n",
       "      <th></th>\n",
       "      <th>year</th>\n",
       "      <th>yield_hg_ha</th>\n",
       "      <th>yield_t_ha</th>\n",
       "      <th>rainfall_mm</th>\n",
       "      <th>avg_temp_c</th>\n",
       "      <th>pesticide_t</th>\n",
       "    </tr>\n",
       "  </thead>\n",
       "  <tbody>\n",
       "    <tr>\n",
       "      <th>count</th>\n",
       "      <td>28242.000000</td>\n",
       "      <td>28242.000000</td>\n",
       "      <td>28242.000000</td>\n",
       "      <td>28242.00000</td>\n",
       "      <td>28242.000000</td>\n",
       "      <td>28242.000000</td>\n",
       "    </tr>\n",
       "    <tr>\n",
       "      <th>mean</th>\n",
       "      <td>2001.544296</td>\n",
       "      <td>77053.332094</td>\n",
       "      <td>770.533321</td>\n",
       "      <td>1149.05598</td>\n",
       "      <td>20.542627</td>\n",
       "      <td>37076.909344</td>\n",
       "    </tr>\n",
       "    <tr>\n",
       "      <th>std</th>\n",
       "      <td>7.051905</td>\n",
       "      <td>84956.612897</td>\n",
       "      <td>849.566129</td>\n",
       "      <td>709.81215</td>\n",
       "      <td>6.312051</td>\n",
       "      <td>59958.784665</td>\n",
       "    </tr>\n",
       "    <tr>\n",
       "      <th>min</th>\n",
       "      <td>1990.000000</td>\n",
       "      <td>50.000000</td>\n",
       "      <td>0.500000</td>\n",
       "      <td>51.00000</td>\n",
       "      <td>1.300000</td>\n",
       "      <td>0.040000</td>\n",
       "    </tr>\n",
       "    <tr>\n",
       "      <th>25%</th>\n",
       "      <td>1995.000000</td>\n",
       "      <td>19919.250000</td>\n",
       "      <td>199.192500</td>\n",
       "      <td>593.00000</td>\n",
       "      <td>16.702500</td>\n",
       "      <td>1702.000000</td>\n",
       "    </tr>\n",
       "    <tr>\n",
       "      <th>50%</th>\n",
       "      <td>2001.000000</td>\n",
       "      <td>38295.000000</td>\n",
       "      <td>382.950000</td>\n",
       "      <td>1083.00000</td>\n",
       "      <td>21.510000</td>\n",
       "      <td>17529.440000</td>\n",
       "    </tr>\n",
       "    <tr>\n",
       "      <th>75%</th>\n",
       "      <td>2008.000000</td>\n",
       "      <td>104676.750000</td>\n",
       "      <td>1046.767500</td>\n",
       "      <td>1668.00000</td>\n",
       "      <td>26.000000</td>\n",
       "      <td>48687.880000</td>\n",
       "    </tr>\n",
       "    <tr>\n",
       "      <th>max</th>\n",
       "      <td>2013.000000</td>\n",
       "      <td>501412.000000</td>\n",
       "      <td>5014.120000</td>\n",
       "      <td>3240.00000</td>\n",
       "      <td>30.650000</td>\n",
       "      <td>367778.000000</td>\n",
       "    </tr>\n",
       "  </tbody>\n",
       "</table>\n",
       "</div>"
      ],
      "text/plain": [
       "               year    yield_hg_ha    yield_t_ha  rainfall_mm    avg_temp_c  \\\n",
       "count  28242.000000   28242.000000  28242.000000  28242.00000  28242.000000   \n",
       "mean    2001.544296   77053.332094    770.533321   1149.05598     20.542627   \n",
       "std        7.051905   84956.612897    849.566129    709.81215      6.312051   \n",
       "min     1990.000000      50.000000      0.500000     51.00000      1.300000   \n",
       "25%     1995.000000   19919.250000    199.192500    593.00000     16.702500   \n",
       "50%     2001.000000   38295.000000    382.950000   1083.00000     21.510000   \n",
       "75%     2008.000000  104676.750000   1046.767500   1668.00000     26.000000   \n",
       "max     2013.000000  501412.000000   5014.120000   3240.00000     30.650000   \n",
       "\n",
       "         pesticide_t  \n",
       "count   28242.000000  \n",
       "mean    37076.909344  \n",
       "std     59958.784665  \n",
       "min         0.040000  \n",
       "25%      1702.000000  \n",
       "50%     17529.440000  \n",
       "75%     48687.880000  \n",
       "max    367778.000000  "
      ]
     },
     "execution_count": 3,
     "metadata": {},
     "output_type": "execute_result"
    }
   ],
   "source": [
    "final_df.describe()"
   ]
  },
  {
   "cell_type": "code",
   "execution_count": 4,
   "id": "28f239d3",
   "metadata": {},
   "outputs": [
    {
     "data": {
      "text/plain": [
       "101"
      ]
     },
     "execution_count": 4,
     "metadata": {},
     "output_type": "execute_result"
    }
   ],
   "source": [
    "final_df['region'].nunique()"
   ]
  },
  {
   "cell_type": "code",
   "execution_count": 5,
   "id": "f03a3024",
   "metadata": {},
   "outputs": [
    {
     "data": {
      "text/plain": [
       "region\n",
       "India             327420324\n",
       "Brazil            167550306\n",
       "Mexico            130788528\n",
       "Japan             124470912\n",
       "Australia         109111062\n",
       "Pakistan           73897434\n",
       "Indonesia          69193506\n",
       "United Kingdom     55419990\n",
       "Turkey             52263950\n",
       "Spain              46773540\n",
       "Name: yield_hg_ha, dtype: int64"
      ]
     },
     "execution_count": 5,
     "metadata": {},
     "output_type": "execute_result"
    }
   ],
   "source": [
    "# Country with highest yield in hectares\n",
    "final_df.groupby(['region'],sort=True)['yield_hg_ha'].sum().nlargest(10)\n"
   ]
  },
  {
   "cell_type": "code",
   "execution_count": 6,
   "id": "f251f42f",
   "metadata": {},
   "outputs": [
    {
     "data": {
      "text/plain": [
       "crop            region        \n",
       "Cassava         India             142810624\n",
       "Potatoes        India              92122514\n",
       "                Brazil             49602168\n",
       "                United Kingdom     46705145\n",
       "                Australia          45670386\n",
       "Sweet potatoes  India              44439538\n",
       "Potatoes        Japan              42918726\n",
       "                Mexico             42053880\n",
       "Sweet potatoes  Mexico             35808592\n",
       "                Australia          35550294\n",
       "Name: yield_hg_ha, dtype: int64"
      ]
     },
     "execution_count": 6,
     "metadata": {},
     "output_type": "execute_result"
    }
   ],
   "source": [
    "final_df.groupby(['crop', 'region'], sort=True)['yield_hg_ha'].sum().nlargest(10)"
   ]
  },
  {
   "cell_type": "markdown",
   "id": "10eb59d0",
   "metadata": {},
   "source": [
    "#DATA VISUALIZATION"
   ]
  },
  {
   "cell_type": "markdown",
   "id": "48b5de3e",
   "metadata": {},
   "source": [
    "**Time Series:**  "
   ]
  },
  {
   "cell_type": "markdown",
   "id": "7ad30ff0",
   "metadata": {},
   "source": [
    "**Crop Yield Over Time**"
   ]
  },
  {
   "cell_type": "code",
   "execution_count": 7,
   "id": "48ada477",
   "metadata": {},
   "outputs": [
    {
     "data": {
      "image/png": "[encoded data removed]",
      "text/plain": [
       "<Figure size 1200x700 with 1 Axes>"
      ]
     },
     "metadata": {},
     "output_type": "display_data"
    }
   ],
   "source": [
    "# Filter the data for Region as \"India\", Crop as \"Wheat\", and Year >= 1990\n",
    "filtered_data = final_df[(final_df['region'] == 'India') & (final_df['crop'] == 'Wheat') & (final_df['year'] >= 1990)]\n",
    "\n",
    "# Create a figure and axis\n",
    "plt.figure(figsize=(12, 7))\n",
    "\n",
    "# Plot the Wheat Yield over the years with enhancements\n",
    "plt.plot(filtered_data['year'], filtered_data['yield_hg_ha'], \n",
    "         marker='o', linestyle='-', color='#ff6600', \n",
    "         label='Wheat Yield in India', linewidth=2)\n",
    "\n",
    "# Add a shaded region to highlight certain years (e.g., 2000–2010)\n",
    "plt.axvspan(2000, 2010, color='#d3f8e2', alpha=0.3, label='Highlighted Years')\n",
    "\n",
    "# Add annotations for key data points\n",
    "for year, yield_value in zip(filtered_data['year'], filtered_data['yield_hg_ha']):\n",
    "    if year % 5 == 0:  # Annotate every 5 years\n",
    "        plt.text(year, yield_value + 100, f'{yield_value:.0f}', fontsize=9, \n",
    "                 color='blue', ha='center')\n",
    "\n",
    "# Customize the plot\n",
    "plt.xlabel('Year', fontsize=12)\n",
    "plt.ylabel('Yield (hg/ha)', fontsize=12)\n",
    "plt.title('Wheat Yield in India (1990–2020)', fontsize=14, fontweight='bold')\n",
    "plt.grid(True, linestyle='--', alpha=0.6)\n",
    "plt.legend( fontsize=10)\n",
    "plt.style.use('ggplot')  # Apply a visual style\n",
    "\n",
    "# Add a background color to the figure\n",
    "plt.gca().set_facecolor('#f5f5f5')  # Set a light gray background for the plot\n",
    "\n",
    "# Display the plot\n",
    "plt.tight_layout()\n",
    "plt.show()\n"
   ]
  },
  {
   "cell_type": "markdown",
   "id": "83c87ed3",
   "metadata": {},
   "source": [
    "**Kernel Density Estimation (KDE) heatmap:**\n"
   ]
  },
  {
   "cell_type": "markdown",
   "id": "8b6ae0d9",
   "metadata": {},
   "source": [
    "**Correlations between average temperature and crop yield.**"
   ]
  },
  {
   "cell_type": "code",
   "execution_count": 8,
   "id": "621b5808",
   "metadata": {},
   "outputs": [
    {
     "data": {
      "image/png": "[encoded data removed]",
      "text/plain": [
       "<Figure size 640x480 with 1 Axes>"
      ]
     },
     "metadata": {},
     "output_type": "display_data"
    }
   ],
   "source": [
    "# Lighter colors indicating higher density (more data points in that area) \n",
    "# Darker colors showing lower density.\n",
    "import seaborn as sns\n",
    "import pandas as pd\n",
    "import matplotlib.pyplot as plt\n",
    "\n",
    "df = pd.read_csv(\"/Users/GURU/Desktop/Project3_Group1/Resources/final_crop_data.csv\")\n",
    "\n",
    "# Example heatmap\n",
    "sns.kdeplot(x='avg_temp_c', y='yield_t_ha', data=df, cmap='YlGn', fill=True)\n",
    "plt.title('Temperature vs Crop Yield')\n",
    "plt.xlabel('Average Temperature (°C)')\n",
    "plt.ylabel('Yield (tons/hectare)')\n",
    "plt.show()\n"
   ]
  },
  {
   "cell_type": "markdown",
   "id": "4bcdff15",
   "metadata": {},
   "source": [
    "**Geospatial scatter plot:** "
   ]
  },
  {
   "cell_type": "markdown",
   "id": "de5e4920",
   "metadata": {},
   "source": [
    "**Crop yields based on geographical locations derived from your GeoJSON file**"
   ]
  },
  {
   "cell_type": "code",
   "execution_count": 9,
   "id": "2b8518c0",
   "metadata": {},
   "outputs": [
    {
     "name": "stderr",
     "output_type": "stream",
     "text": [
      "/var/folders/7g/q4bdxd8s7xd3lw5j6j3g_m2r0000gq/T/ipykernel_5415/2084700816.py:9: UserWarning: Geometry is in a geographic CRS. Results from 'centroid' are likely incorrect. Use 'GeoSeries.to_crs()' to re-project geometries to a projected CRS before this operation.\n",
      "\n",
      "  gdf['centroid'] = gdf.geometry.centroid  # Calculate centroids\n"
     ]
    },
    {
     "data": {
      "image/png": "[encoded data removed]",
      "text/plain": [
       "<Figure size 640x480 with 2 Axes>"
      ]
     },
     "metadata": {},
     "output_type": "display_data"
    }
   ],
   "source": [
    "import geopandas as gpd\n",
    "import matplotlib.pyplot as plt\n",
    "# Geospatial Scatter Plot\n",
    "# You can plot individual points for crop yield using matplotlib or seaborn. If data includes latitude and longitude (or centroids), you can overlay points on a base map.\n",
    "# Load GeoJSON\n",
    "gdf = gpd.read_file(\"/Users/GURU/Desktop/Project3_Group1/custom_updated.geo.json\")\n",
    "\n",
    "# Scatter plot\n",
    "gdf['centroid'] = gdf.geometry.centroid  # Calculate centroids\n",
    "gdf['coords'] = gdf['centroid'].apply(lambda x: (x.x, x.y))  # Extract coordinates\n",
    "\n",
    "# Extract x and y coordinates for plotting\n",
    "x_coords = [coord[0] for coord in gdf['coords']]\n",
    "y_coords = [coord[1] for coord in gdf['coords']]\n",
    "plt.scatter(x_coords, y_coords, c=gdf['yield_t_ha'], cmap='YlGn', s=50, edgecolor='black')\n",
    "\n",
    "plt.title('Crop Yield Distribution')\n",
    "plt.xlabel('Longitude')\n",
    "plt.ylabel('Latitude')\n",
    "plt.colorbar(label='Yield (tons/hectare)')\n",
    "plt.show()\n"
   ]
  },
  {
   "cell_type": "markdown",
   "id": "9ed4c548",
   "metadata": {},
   "source": [
    "**Interactive Scatter plot: created using Plotly Express**"
   ]
  },
  {
   "cell_type": "markdown",
   "id": "e0d34bdc",
   "metadata": {},
   "source": [
    " **Total pesticide usage over years**"
   ]
  },
  {
   "cell_type": "code",
   "execution_count": null,
   "id": "8963595e",
   "metadata": {},
   "outputs": [
    {
     "data": {
      "application/vnd.plotly.v1+json": {
       "config": {
        "plotlyServerURL": "https://plot.ly"
       },
       "data": [
        {
         "customdata": [
          [
           66447.1529209622
          ],
          [
           66318.52061855671
          ],
          [
           66915.77030352748
          ],
          [
           67480.34750613246
          ],
          [
           68516.76576576577
          ],
          [
           69524.089198036
          ],
          [
           69889.09165302782
          ],
          [
           71160.40522875817
          ],
          [
           71476.46732026144
          ],
          [
           73896.17089125102
          ],
          [
           75376.05203252033
          ],
          [
           76587.04800650936
          ],
          [
           77730.13599348534
          ],
          [
           80590.01944894652
          ],
          [
           80702.02267206478
          ],
          [
           80386.26950925181
          ],
          [
           82532.89452495975
          ],
          [
           84344.38504823152
          ],
          [
           85350.01690821256
          ],
          [
           86512.52610441767
          ],
          [
           88908.33574297189
          ],
          [
           88569.8507936508
          ],
          [
           90357.3637807784
          ]
         ],
         "hovertemplate": "year=%{x}<br>Total Pesticides (tonnes)=%{y}<br>Average Yield (hg/ha)=%{marker.color}<extra></extra>",
         "legendgroup": "",
         "marker": {
          "color": [
           66447.1529209622,
           66318.52061855671,
           66915.77030352748,
           67480.34750613246,
           68516.76576576577,
           69524.089198036,
           69889.09165302782,
           71160.40522875817,
           71476.46732026144,
           73896.17089125102,
           75376.05203252033,
           76587.04800650936,
           77730.13599348534,
           80590.01944894652,
           80702.02267206478,
           80386.26950925181,
           82532.89452495975,
           84344.38504823152,
           85350.01690821256,
           86512.52610441767,
           88908.33574297189,
           88569.8507936508,
           90357.3637807784
          ],
          "coloraxis": "coloraxis",
          "size": [
           66447.1529209622,
           66318.52061855671,
           66915.77030352748,
           67480.34750613246,
           68516.76576576577,
           69524.089198036,
           69889.09165302782,
           71160.40522875817,
           71476.46732026144,
           73896.17089125102,
           75376.05203252033,
           76587.04800650936,
           77730.13599348534,
           80590.01944894652,
           80702.02267206478,
           80386.26950925181,
           82532.89452495975,
           84344.38504823152,
           85350.01690821256,
           86512.52610441767,
           88908.33574297189,
           88569.8507936508,
           90357.3637807784
          ],
          "sizemode": "area",
          "sizeref": 225.89340945194598,
          "symbol": "circle"
         },
         "mode": "markers",
         "name": "",
         "orientation": "v",
         "showlegend": false,
         "type": "scatter",
         "x": [
          1990,
          1991,
          1992,
          1993,
          1994,
          1995,
          1996,
          1997,
          1998,
          1999,
          2000,
          2001,
          2002,
          2004,
          2005,
          2006,
          2007,
          2008,
          2009,
          2010,
          2011,
          2012,
          2013
         ],
         "xaxis": "x",
         "y": [
          32854849.99,
          32797319.01,
          33837494.13,
          33986466.87,
          33792967,
          35266238.839999996,
          36209022.78,
          37691844.1,
          39148511.68,
          39475841.56,
          41074386.48,
          40374444.13,
          38023171.88,
          45958242.57,
          49212567.54,
          49151061.4,
          55893759.95,
          54234529.58,
          57806384.04,
          62223272.13,
          65659418.53,
          65991811.55,
          66462467.94
         ],
         "yaxis": "y"
        }
       ],
       "layout": {
        "coloraxis": {
         "colorbar": {
          "title": {
           "text": "Average Yield (hg/ha)"
          }
         },
         "colorscale": [
          [
           0,
           "#0d0887"
          ],
          [
           0.1111111111111111,
           "#46039f"
          ],
          [
           0.2222222222222222,
           "#7201a8"
          ],
          [
           0.3333333333333333,
           "#9c179e"
          ],
          [
           0.4444444444444444,
           "#bd3786"
          ],
          [
           0.5555555555555556,
           "#d8576b"
          ],
          [
           0.6666666666666666,
           "#ed7953"
          ],
          [
           0.7777777777777778,
           "#fb9f3a"
          ],
          [
           0.8888888888888888,
           "#fdca26"
          ],
          [
           1,
           "#f0f921"
          ]
         ]
        },
        "legend": {
         "itemsizing": "constant",
         "tracegroupgap": 0
        },
        "template": {
         "data": {
          "bar": [
           {
            "error_x": {
             "color": "#2a3f5f"
            },
            "error_y": {
             "color": "#2a3f5f"
            },
            "marker": {
             "line": {
              "color": "#E5ECF6",
              "width": 0.5
             },
             "pattern": {
              "fillmode": "overlay",
              "size": 10,
              "solidity": 0.2
             }
            },
            "type": "bar"
           }
          ],
          "barpolar": [
           {
            "marker": {
             "line": {
              "color": "#E5ECF6",
              "width": 0.5
             },
             "pattern": {
              "fillmode": "overlay",
              "size": 10,
              "solidity": 0.2
             }
            },
            "type": "barpolar"
           }
          ],
          "carpet": [
           {
            "aaxis": {
             "endlinecolor": "#2a3f5f",
             "gridcolor": "white",
             "linecolor": "white",
             "minorgridcolor": "white",
             "startlinecolor": "#2a3f5f"
            },
            "baxis": {
             "endlinecolor": "#2a3f5f",
             "gridcolor": "white",
             "linecolor": "white",
             "minorgridcolor": "white",
             "startlinecolor": "#2a3f5f"
            },
            "type": "carpet"
           }
          ],
          "choropleth": [
           {
            "colorbar": {
             "outlinewidth": 0,
             "ticks": ""
            },
            "type": "choropleth"
           }
          ],
          "contour": [
           {
            "colorbar": {
             "outlinewidth": 0,
             "ticks": ""
            },
            "colorscale": [
             [
              0,
              "#0d0887"
             ],
             [
              0.1111111111111111,
              "#46039f"
             ],
             [
              0.2222222222222222,
              "#7201a8"
             ],
             [
              0.3333333333333333,
              "#9c179e"
             ],
             [
              0.4444444444444444,
              "#bd3786"
             ],
             [
              0.5555555555555556,
              "#d8576b"
             ],
             [
              0.6666666666666666,
              "#ed7953"
             ],
             [
              0.7777777777777778,
              "#fb9f3a"
             ],
             [
              0.8888888888888888,
              "#fdca26"
             ],
             [
              1,
              "#f0f921"
             ]
            ],
            "type": "contour"
           }
          ],
          "contourcarpet": [
           {
            "colorbar": {
             "outlinewidth": 0,
             "ticks": ""
            },
            "type": "contourcarpet"
           }
          ],
          "heatmap": [
           {
            "colorbar": {
             "outlinewidth": 0,
             "ticks": ""
            },
            "colorscale": [
             [
              0,
              "#0d0887"
             ],
             [
              0.1111111111111111,
              "#46039f"
             ],
             [
              0.2222222222222222,
              "#7201a8"
             ],
             [
              0.3333333333333333,
              "#9c179e"
             ],
             [
              0.4444444444444444,
              "#bd3786"
             ],
             [
              0.5555555555555556,
              "#d8576b"
             ],
             [
              0.6666666666666666,
              "#ed7953"
             ],
             [
              0.7777777777777778,
              "#fb9f3a"
             ],
             [
              0.8888888888888888,
              "#fdca26"
             ],
             [
              1,
              "#f0f921"
             ]
            ],
            "type": "heatmap"
           }
          ],
          "heatmapgl": [
           {
            "colorbar": {
             "outlinewidth": 0,
             "ticks": ""
            },
            "colorscale": [
             [
              0,
              "#0d0887"
             ],
             [
              0.1111111111111111,
              "#46039f"
             ],
             [
              0.2222222222222222,
              "#7201a8"
             ],
             [
              0.3333333333333333,
              "#9c179e"
             ],
             [
              0.4444444444444444,
              "#bd3786"
             ],
             [
              0.5555555555555556,
              "#d8576b"
             ],
             [
              0.6666666666666666,
              "#ed7953"
             ],
             [
              0.7777777777777778,
              "#fb9f3a"
             ],
             [
              0.8888888888888888,
              "#fdca26"
             ],
             [
              1,
              "#f0f921"
             ]
            ],
            "type": "heatmapgl"
           }
          ],
          "histogram": [
           {
            "marker": {
             "pattern": {
              "fillmode": "overlay",
              "size": 10,
              "solidity": 0.2
             }
            },
            "type": "histogram"
           }
          ],
          "histogram2d": [
           {
            "colorbar": {
             "outlinewidth": 0,
             "ticks": ""
            },
            "colorscale": [
             [
              0,
              "#0d0887"
             ],
             [
              0.1111111111111111,
              "#46039f"
             ],
             [
              0.2222222222222222,
              "#7201a8"
             ],
             [
              0.3333333333333333,
              "#9c179e"
             ],
             [
              0.4444444444444444,
              "#bd3786"
             ],
             [
              0.5555555555555556,
              "#d8576b"
             ],
             [
              0.6666666666666666,
              "#ed7953"
             ],
             [
              0.7777777777777778,
              "#fb9f3a"
             ],
             [
              0.8888888888888888,
              "#fdca26"
             ],
             [
              1,
              "#f0f921"
             ]
            ],
            "type": "histogram2d"
           }
          ],
          "histogram2dcontour": [
           {
            "colorbar": {
             "outlinewidth": 0,
             "ticks": ""
            },
            "colorscale": [
             [
              0,
              "#0d0887"
             ],
             [
              0.1111111111111111,
              "#46039f"
             ],
             [
              0.2222222222222222,
              "#7201a8"
             ],
             [
              0.3333333333333333,
              "#9c179e"
             ],
             [
              0.4444444444444444,
              "#bd3786"
             ],
             [
              0.5555555555555556,
              "#d8576b"
             ],
             [
              0.6666666666666666,
              "#ed7953"
             ],
             [
              0.7777777777777778,
              "#fb9f3a"
             ],
             [
              0.8888888888888888,
              "#fdca26"
             ],
             [
              1,
              "#f0f921"
             ]
            ],
            "type": "histogram2dcontour"
           }
          ],
          "mesh3d": [
           {
            "colorbar": {
             "outlinewidth": 0,
             "ticks": ""
            },
            "type": "mesh3d"
           }
          ],
          "parcoords": [
           {
            "line": {
             "colorbar": {
              "outlinewidth": 0,
              "ticks": ""
             }
            },
            "type": "parcoords"
           }
          ],
          "pie": [
           {
            "automargin": true,
            "type": "pie"
           }
          ],
          "scatter": [
           {
            "fillpattern": {
             "fillmode": "overlay",
             "size": 10,
             "solidity": 0.2
            },
            "type": "scatter"
           }
          ],
          "scatter3d": [
           {
            "line": {
             "colorbar": {
              "outlinewidth": 0,
              "ticks": ""
             }
            },
            "marker": {
             "colorbar": {
              "outlinewidth": 0,
              "ticks": ""
             }
            },
            "type": "scatter3d"
           }
          ],
          "scattercarpet": [
           {
            "marker": {
             "colorbar": {
              "outlinewidth": 0,
              "ticks": ""
             }
            },
            "type": "scattercarpet"
           }
          ],
          "scattergeo": [
           {
            "marker": {
             "colorbar": {
              "outlinewidth": 0,
              "ticks": ""
             }
            },
            "type": "scattergeo"
           }
          ],
          "scattergl": [
           {
            "marker": {
             "colorbar": {
              "outlinewidth": 0,
              "ticks": ""
             }
            },
            "type": "scattergl"
           }
          ],
          "scattermapbox": [
           {
            "marker": {
             "colorbar": {
              "outlinewidth": 0,
              "ticks": ""
             }
            },
            "type": "scattermapbox"
           }
          ],
          "scatterpolar": [
           {
            "marker": {
             "colorbar": {
              "outlinewidth": 0,
              "ticks": ""
             }
            },
            "type": "scatterpolar"
           }
          ],
          "scatterpolargl": [
           {
            "marker": {
             "colorbar": {
              "outlinewidth": 0,
              "ticks": ""
             }
            },
            "type": "scatterpolargl"
           }
          ],
          "scatterternary": [
           {
            "marker": {
             "colorbar": {
              "outlinewidth": 0,
              "ticks": ""
             }
            },
            "type": "scatterternary"
           }
          ],
          "surface": [
           {
            "colorbar": {
             "outlinewidth": 0,
             "ticks": ""
            },
            "colorscale": [
             [
              0,
              "#0d0887"
             ],
             [
              0.1111111111111111,
              "#46039f"
             ],
             [
              0.2222222222222222,
              "#7201a8"
             ],
             [
              0.3333333333333333,
              "#9c179e"
             ],
             [
              0.4444444444444444,
              "#bd3786"
             ],
             [
              0.5555555555555556,
              "#d8576b"
             ],
             [
              0.6666666666666666,
              "#ed7953"
             ],
             [
              0.7777777777777778,
              "#fb9f3a"
             ],
             [
              0.8888888888888888,
              "#fdca26"
             ],
             [
              1,
              "#f0f921"
             ]
            ],
            "type": "surface"
           }
          ],
          "table": [
           {
            "cells": {
             "fill": {
              "color": "#EBF0F8"
             },
             "line": {
              "color": "white"
             }
            },
            "header": {
             "fill": {
              "color": "#C8D4E3"
             },
             "line": {
              "color": "white"
             }
            },
            "type": "table"
           }
          ]
         },
         "layout": {
          "annotationdefaults": {
           "arrowcolor": "#2a3f5f",
           "arrowhead": 0,
           "arrowwidth": 1
          },
          "autotypenumbers": "strict",
          "coloraxis": {
           "colorbar": {
            "outlinewidth": 0,
            "ticks": ""
           }
          },
          "colorscale": {
           "diverging": [
            [
             0,
             "#8e0152"
            ],
            [
             0.1,
             "#c51b7d"
            ],
            [
             0.2,
             "#de77ae"
            ],
            [
             0.3,
             "#f1b6da"
            ],
            [
             0.4,
             "#fde0ef"
            ],
            [
             0.5,
             "#f7f7f7"
            ],
            [
             0.6,
             "#e6f5d0"
            ],
            [
             0.7,
             "#b8e186"
            ],
            [
             0.8,
             "#7fbc41"
            ],
            [
             0.9,
             "#4d9221"
            ],
            [
             1,
             "#276419"
            ]
           ],
           "sequential": [
            [
             0,
             "#0d0887"
            ],
            [
             0.1111111111111111,
             "#46039f"
            ],
            [
             0.2222222222222222,
             "#7201a8"
            ],
            [
             0.3333333333333333,
             "#9c179e"
            ],
            [
             0.4444444444444444,
             "#bd3786"
            ],
            [
             0.5555555555555556,
             "#d8576b"
            ],
            [
             0.6666666666666666,
             "#ed7953"
            ],
            [
             0.7777777777777778,
             "#fb9f3a"
            ],
            [
             0.8888888888888888,
             "#fdca26"
            ],
            [
             1,
             "#f0f921"
            ]
           ],
           "sequentialminus": [
            [
             0,
             "#0d0887"
            ],
            [
             0.1111111111111111,
             "#46039f"
            ],
            [
             0.2222222222222222,
             "#7201a8"
            ],
            [
             0.3333333333333333,
             "#9c179e"
            ],
            [
             0.4444444444444444,
             "#bd3786"
            ],
            [
             0.5555555555555556,
             "#d8576b"
            ],
            [
             0.6666666666666666,
             "#ed7953"
            ],
            [
             0.7777777777777778,
             "#fb9f3a"
            ],
            [
             0.8888888888888888,
             "#fdca26"
            ],
            [
             1,
             "#f0f921"
            ]
           ]
          },
          "colorway": [
           "#636efa",
           "#EF553B",
           "#00cc96",
           "#ab63fa",
           "#FFA15A",
           "#19d3f3",
           "#FF6692",
           "#B6E880",
           "#FF97FF",
           "#FECB52"
          ],
          "font": {
           "color": "#2a3f5f"
          },
          "geo": {
           "bgcolor": "white",
           "lakecolor": "white",
           "landcolor": "#E5ECF6",
           "showlakes": true,
           "showland": true,
           "subunitcolor": "white"
          },
          "hoverlabel": {
           "align": "left"
          },
          "hovermode": "closest",
          "mapbox": {
           "style": "light"
          },
          "paper_bgcolor": "white",
          "plot_bgcolor": "#E5ECF6",
          "polar": {
           "angularaxis": {
            "gridcolor": "white",
            "linecolor": "white",
            "ticks": ""
           },
           "bgcolor": "#E5ECF6",
           "radialaxis": {
            "gridcolor": "white",
            "linecolor": "white",
            "ticks": ""
           }
          },
          "scene": {
           "xaxis": {
            "backgroundcolor": "#E5ECF6",
            "gridcolor": "white",
            "gridwidth": 2,
            "linecolor": "white",
            "showbackground": true,
            "ticks": "",
            "zerolinecolor": "white"
           },
           "yaxis": {
            "backgroundcolor": "#E5ECF6",
            "gridcolor": "white",
            "gridwidth": 2,
            "linecolor": "white",
            "showbackground": true,
            "ticks": "",
            "zerolinecolor": "white"
           },
           "zaxis": {
            "backgroundcolor": "#E5ECF6",
            "gridcolor": "white",
            "gridwidth": 2,
            "linecolor": "white",
            "showbackground": true,
            "ticks": "",
            "zerolinecolor": "white"
           }
          },
          "shapedefaults": {
           "line": {
            "color": "#2a3f5f"
           }
          },
          "ternary": {
           "aaxis": {
            "gridcolor": "white",
            "linecolor": "white",
            "ticks": ""
           },
           "baxis": {
            "gridcolor": "white",
            "linecolor": "white",
            "ticks": ""
           },
           "bgcolor": "#E5ECF6",
           "caxis": {
            "gridcolor": "white",
            "linecolor": "white",
            "ticks": ""
           }
          },
          "title": {
           "x": 0.05
          },
          "xaxis": {
           "automargin": true,
           "gridcolor": "white",
           "linecolor": "white",
           "ticks": "",
           "title": {
            "standoff": 15
           },
           "zerolinecolor": "white",
           "zerolinewidth": 2
          },
          "yaxis": {
           "automargin": true,
           "gridcolor": "white",
           "linecolor": "white",
           "ticks": "",
           "title": {
            "standoff": 15
           },
           "zerolinecolor": "white",
           "zerolinewidth": 2
          }
         }
        },
        "title": {
         "text": "Pesticides Usage Over the Years"
        },
        "xaxis": {
         "anchor": "y",
         "domain": [
          0,
          1
         ],
         "title": {
          "text": "year"
         }
        },
        "yaxis": {
         "anchor": "x",
         "domain": [
          0,
          1
         ],
         "title": {
          "text": "Total Pesticides (tonnes)"
         }
        }
       }
      }
     },
     "metadata": {},
     "output_type": "display_data"
    }
   ],
   "source": [
    "import pandas as pd\n",
    "import plotly.express as px\n",
    "# When hovering over each point, \n",
    "# it displays a tooltip with detailed data (Year, Pesticides Usage, and Crop Yield).\n",
    "# Record for 2003 is missing in the dataset\n",
    "\n",
    "# Step 1: Load the CSV file\n",
    "csv_file = \"/Users/GURU/Desktop/Project3_Group1/Resources/final_crop_data.csv\"\n",
    "final_crop_data = pd.read_csv(csv_file)\n",
    "\n",
    "# Step 2: Convert 'year' column to integers\n",
    "final_crop_data['year'] = final_crop_data['year'].astype(int)\n",
    "\n",
    "# Step 3: Aggregate data by year\n",
    "yearly_data = final_crop_data.groupby('year').agg({\n",
    "    'pesticide_t': 'sum',  # Sum pesticide usage per year\n",
    "    'yield_hg_ha': 'mean'  # Calculate average crop yield per year\n",
    "}).reset_index()\n",
    "\n",
    "# Step 4: Create an interactive scatter plot with hover functionality\n",
    "fig = px.scatter(\n",
    "    yearly_data,\n",
    "    x='year',  # X-axis: Year\n",
    "    y='pesticide_t',  # Primary Y-axis: Total Pesticides\n",
    "    color='yield_hg_ha',  # Color points by average yield (optional)\n",
    "    size='yield_hg_ha',  # Optional: Size points by yield\n",
    "    hover_data=['year', 'pesticide_t', 'yield_hg_ha'],  # Additional info on hover\n",
    "    title='Pesticides Usage Over the Years',\n",
    "    labels={'pesticide_t': 'Total Pesticides (tonnes)', 'yield_hg_ha': 'Average Yield (hg/ha)'}\n",
    ")\n",
    "\n",
    "# Show the interactive plot\n",
    "fig.show()\n"
   ]
  },
  {
   "cell_type": "markdown",
   "id": "f6013b39",
   "metadata": {},
   "source": [
    "**Dual-axis line plot:**"
   ]
  },
  {
   "cell_type": "markdown",
   "id": "89b50bde",
   "metadata": {},
   "source": [
    " **Analyze trends in two related metrics—total pesticide usage and average crop yield**"
   ]
  },
  {
   "cell_type": "code",
   "execution_count": 19,
   "id": "88a17c56",
   "metadata": {},
   "outputs": [
    {
     "data": {
      "text/plain": [
       "<Figure size 1200x800 with 0 Axes>"
      ]
     },
     "metadata": {},
     "output_type": "display_data"
    },
    {
     "data": {
      "image/png": "[encoded data removed]",
      "text/plain": [
       "<Figure size 1200x800 with 2 Axes>"
      ]
     },
     "metadata": {},
     "output_type": "display_data"
    }
   ],
   "source": [
    "import pandas as pd\n",
    "import matplotlib.pyplot as plt\n",
    "\n",
    "# Step 1: Load the CSV file\n",
    "csv_file = \"/Users/GURU/Desktop/Project3_Group1/Resources/final_crop_data.csv\"\n",
    "final_crop_data = pd.read_csv(csv_file)\n",
    "\n",
    "# Step 2: Convert 'year' column to integers to remove floats\n",
    "final_crop_data['year'] = final_crop_data['year'].astype(int)\n",
    "\n",
    "# Step 3: Aggregate data by year\n",
    "yearly_data = final_crop_data.groupby('year').agg({\n",
    "    'pesticide_t': 'sum',  # Sum pesticide usage per year\n",
    "    'yield_hg_ha': 'mean'  # Calculate average crop yield per year\n",
    "}).reset_index()\n",
    "\n",
    "# Step 4: Create the dual-axis plot\n",
    "plt.figure(figsize=(12, 8))  # Set figure size\n",
    "\n",
    "fig, ax1 = plt.subplots(figsize=(12, 8))  # Create figure and axes\n",
    "\n",
    "# Plot total pesticide usage on the primary y-axis\n",
    "ax1.plot(yearly_data['year'], yearly_data['pesticide_t'],\n",
    "         marker='o', color='b', linestyle='-', linewidth=2, markersize=8, label='Total Pesticides (tonnes)')\n",
    "ax1.set_xlabel('Year', fontsize=14)  # X-axis label\n",
    "ax1.set_ylabel('Total Pesticides (tonnes)', fontsize=14, color='b')  # Primary y-axis label\n",
    "ax1.tick_params(axis='y', labelcolor='b')  # Color the y-axis ticks for pesticides in blue\n",
    "\n",
    "# Add gridlines to the primary axis\n",
    "ax1.grid(True, linestyle='--', alpha=0.7)\n",
    "\n",
    "# Plot average crop yield on the secondary y-axis\n",
    "ax2 = ax1.twinx()  # Create a second y-axis sharing the same x-axis\n",
    "ax2.plot(yearly_data['year'], yearly_data['yield_hg_ha'],\n",
    "         marker='x', color='r', linestyle='--', linewidth=2, markersize=8, label='Average Yield (hg/ha)')\n",
    "ax2.set_ylabel('Average Yield (hg/ha)', fontsize=14, color='r')  # Secondary y-axis label\n",
    "ax2.tick_params(axis='y', labelcolor='r')  # Color the y-axis ticks for yield in red\n",
    "\n",
    "# Step 5: Add title and legend\n",
    "plt.title('Total Pesticides Usage and Average Yield Over the Years', fontsize=16, fontweight='bold')\n",
    "\n",
    "# Rotate x-axis labels for better readability\n",
    "plt.xticks(rotation=45, fontsize=12)\n",
    "plt.yticks(fontsize=12)\n",
    "\n",
    "# Add background color for the plot area\n",
    "plt.gca().set_facecolor('#f5f5f5')\n",
    "\n",
    "# Add legends for both axes\n",
    "ax1.legend(loc='upper left')  # Legend for pesticides\n",
    "ax2.legend(loc='upper right')  # Legend for crop yield\n",
    "\n",
    "# Step 6: Adjust layout and display the plot\n",
    "plt.tight_layout()  # Ensure proper spacing between elements\n",
    "plt.show()\n"
   ]
  },
  {
   "cell_type": "code",
   "execution_count": null,
   "id": "aec42a17",
   "metadata": {},
   "outputs": [],
   "source": [
    "# Calculate the mean temperature for the entire dataset\n",
    "temp_mean = final_crop_data['avg_temp'].mean()\n",
    "final_crop_data['yield_per_pesticide'] = final_crop_data['hg/ha_yield'] / final_crop_data['pesticides_tonnes']\n",
    "final_crop_data['yield_per_rainfall'] = final_crop_data['hg/ha_yield'] / final_crop_data['average_rain_fall_mm_per_year']\n",
    "final_crop_data['temp_deviation'] = final_crop_data['avg_temp'] - temp_mean"
   ]
  },
  {
   "cell_type": "code",
   "execution_count": null,
   "id": "268a3311",
   "metadata": {},
   "outputs": [],
   "source": [
    "# Set the figure size\n",
    "plt.figure(figsize=(10, 6))\n",
    "\n",
    "# Create a scatter plot with a regression line\n",
    "sns.regplot(x='yield_per_pesticide', y='yield_per_rainfall', data=final_crop_data, scatter_kws={'s': 50}, line_kws={'color': 'red'})\n",
    "\n",
    "# Color the points based on temperature deviation\n",
    "points = plt.scatter(final_crop_data['yield_per_pesticide'], final_crop_data['yield_per_rainfall'], \n",
    "                     c=final_crop_data['temp_deviation'], cmap='coolwarm', s=100, edgecolor='black', alpha=0.7)\n",
    "\n",
    "# Add titles and labels\n",
    "plt.title('Relationship Between Yield per Pesticide and Yield per Rainfall', fontsize=16, fontweight='bold')\n",
    "plt.xlabel('Yield per Pesticide (hg/ha per tonne)', fontsize=14)\n",
    "plt.ylabel('Yield per Rainfall (hg/ha per mm/year)', fontsize=14)\n",
    "\n",
    "# Add a color bar to indicate the temperature deviation\n",
    "cbar = plt.colorbar(points)\n",
    "cbar.set_label('Temperature Deviation from Mean (°C)', fontsize=12)\n",
    "\n",
    "# Show the plot\n",
    "plt.tight_layout()\n",
    "plt.show()"
   ]
  },
  {
   "cell_type": "code",
   "execution_count": null,
   "id": "e1204f9b",
   "metadata": {},
   "outputs": [],
   "source": []
  },
  {
   "cell_type": "code",
   "execution_count": null,
   "id": "de3f8776",
   "metadata": {},
   "outputs": [],
   "source": []
  },
  {
   "cell_type": "code",
   "execution_count": null,
   "id": "f264a689",
   "metadata": {},
   "outputs": [],
   "source": [
    "# Scatter Plot\n",
    "import matplotlib.pyplot as plt\n",
    "import seaborn as sns\n",
    "\n",
    "# Scatter Plot with Hue Differentiation\n",
    "plt.figure(figsize=(10, 8))\n",
    "\n",
    "sns.scatterplot(\n",
    "    x='average_rain_fall_mm_per_year',\n",
    "    y='hg/ha_yield',\n",
    "    data=final_crop_data,\n",
    "    hue='average_rain_fall_mm_per_year',  # Assign hue for color gradient\n",
    "    palette='viridis',  # Use a colorblind-friendly palette\n",
    "    edgecolor='black',\n",
    "    s=100  # Adjust marker size\n",
    ")\n",
    "\n",
    "plt.title('Relationship between Rainfall and hg/ha Yield', fontsize=16, fontweight='bold')\n",
    "plt.xlabel('Average Rainfall (mm per year)', fontsize=14)\n",
    "plt.ylabel('hg/ha Yield', fontsize=14)\n",
    "plt.grid(True, linestyle='--', alpha=0.7)\n",
    "plt.tight_layout()\n",
    "plt.show()\n"
   ]
  },
  {
   "cell_type": "code",
   "execution_count": null,
   "id": "d9775fa8",
   "metadata": {},
   "outputs": [],
   "source": []
  },
  {
   "cell_type": "code",
   "execution_count": null,
   "id": "65e6af68",
   "metadata": {},
   "outputs": [],
   "source": [
    "import pandas as pd\n",
    "import json\n",
    "\n",
    "# Paths to your files\n",
    "csv_file = \"/Users/GURU/Desktop/Project3_Group1/Resources/final_crop_data.csv\"\n",
    "geojson_file = \"/Users/GURU/Desktop/Project3_Group1/custom.geo.json\"\n",
    "output_file = \"/Users/GURU/Desktop/Project3_Group1/custom_updated.geo.json\"\n",
    "\n",
    "# Load the CSV data\n",
    "csv_data = pd.read_csv(csv_file)\n",
    "\n",
    "# Filter the latest year (e.g., 2000 for simplicity)\n",
    "latest_year_data = csv_data[csv_data['year'] == 2000]  # Adjust year as needed\n",
    "\n",
    "# Load the GeoJSON data\n",
    "with open(geojson_file, 'r') as file:\n",
    "    geojson_data = json.load(file)\n",
    "\n",
    "# Combine CSV data into GeoJSON features\n",
    "for feature in geojson_data['features']:\n",
    "    # Get the country name from GeoJSON\n",
    "    admin = feature['properties']['admin']\n",
    "\n",
    "    # Find the matching row in the CSV file\n",
    "    match = latest_year_data[latest_year_data['region'] == admin]  # Replace 'region' with the correct column\n",
    "\n",
    "    if not match.empty:\n",
    "        # Add yield_t_ha to GeoJSON properties\n",
    "        feature['properties']['yield_t_ha'] = match.iloc[0]['yield_t_ha']\n",
    "    else:\n",
    "        # If no match, set crop yield to None\n",
    "        feature['properties']['yield_t_ha'] = None\n",
    "\n",
    "# Save the updated GeoJSON to a new file\n",
    "with open(output_file, 'w') as file:\n",
    "    json.dump(geojson_data, file, indent=4)\n",
    "\n",
    "print(\"GeoJSON updated successfully!\")\n"
   ]
  },
  {
   "cell_type": "code",
   "execution_count": null,
   "id": "8be3e07b",
   "metadata": {},
   "outputs": [],
   "source": [
    "# Choropleth Heatmap (Like the Leaflet Visualization)\n",
    "# Using libraries like geopandas and matplotlib, you can create a static choropleth map where countries are color-coded based on crop yield (yield_t_ha).\n",
    "# Load GeoJSON\n",
    "import folium\n",
    "import json\n",
    "import pandas as pd\n",
    "\n",
    "# File paths\n",
    "geojson_file = \"/Users/GURU/Desktop/Project3_Group1/custom_updated.geo.json\"\n",
    "csv_file = \"/Users/GURU/Desktop/Project3_Group1/Resources/final_crop_data.csv\"\n",
    "\n",
    "# Load GeoJSON data\n",
    "with open(geojson_file, 'r') as file:\n",
    "    geojson_data = json.load(file)\n",
    "\n",
    "# Load CSV data\n",
    "csv_data = pd.read_csv(csv_file)\n",
    "\n",
    "# Preprocess data: Find the crop with the maximum yield for each region\n",
    "max_yield_data = (\n",
    "    csv_data.groupby('region')\n",
    "    .apply(lambda x: x.loc[x['yield_t_ha'].idxmax()])\n",
    "    [['region', 'crop', 'yield_t_ha']]\n",
    ")\n",
    "max_yield_data.reset_index(drop=True, inplace=True)\n",
    "\n",
    "# Create a lookup dictionary for quick access\n",
    "region_max_crop = {\n",
    "    row['region']: (row['crop'], row['yield_t_ha']) for _, row in max_yield_data.iterrows()\n",
    "}\n",
    "\n",
    "# Initialize the map\n",
    "m = folium.Map(location=[20, 0], zoom_start=2)  # Center at latitude 20, longitude 0\n",
    "\n",
    "# Add multiple high-quality basemaps\n",
    "standard_map = folium.TileLayer('OpenStreetMap', name='Standard Map')\n",
    "dark_matter_map = folium.TileLayer(\n",
    "    tiles='https://{s}.basemaps.cartocdn.com/dark_all/{z}/{x}/{y}{r}.png',\n",
    "    name='Dark Matter',\n",
    "    attr='CartoDB Dark Matter'\n",
    ")\n",
    "toner_map = folium.TileLayer(\n",
    "    tiles='https://stamen-tiles.a.ssl.fastly.net/toner/{z}/{x}/{y}.png',\n",
    "    name='Toner',\n",
    "    attr='Stamen Toner'\n",
    ")\n",
    "topo_map = folium.TileLayer(\n",
    "    tiles='https://{s}.tile.opentopomap.org/{z}/{x}/{y}.png',\n",
    "    name='Topographic Map',\n",
    "    attr='OpenTopoMap'\n",
    ")\n",
    "\n",
    "# Add basemap layers to the map\n",
    "standard_map.add_to(m)  # Default map layer\n",
    "dark_matter_map.add_to(m)\n",
    "toner_map.add_to(m)\n",
    "topo_map.add_to(m)\n",
    "\n",
    "# Define function to style features based on yield\n",
    "def style_function(feature):\n",
    "    # Safely get yield_t_ha and default to 0 if missing or None\n",
    "    yield_value = feature['properties'].get('yield_t_ha', 0) or 0\n",
    "    return {\n",
    "        'fillColor': '#006837' if yield_value > 300 else\n",
    "                     '#31a354' if yield_value > 250 else\n",
    "                     '#78c679' if yield_value > 200 else\n",
    "                     '#c2e699' if yield_value > 100 else\n",
    "                     '#ffffcc',\n",
    "        'color': 'black',       # Outline color\n",
    "        'weight': 1,            # Outline thickness\n",
    "        'fillOpacity': 0.7      # Transparency of fill\n",
    "    }\n",
    "\n",
    "# Add GeoJSON layer with hover tooltips and popups\n",
    "def popup_content(feature):\n",
    "    region = feature['properties'].get('admin', \"Unknown Region\")\n",
    "    yield_value = feature['properties'].get('yield_t_ha', \"N/A\")\n",
    "\n",
    "    # Get crop with the maximum yield for the region\n",
    "    max_crop, max_yield = region_max_crop.get(region, (\"N/A\", \"N/A\"))\n",
    "\n",
    "    # Generate popup content\n",
    "    return f\"\"\"\n",
    "    <b>Region:</b> {region}<br>\n",
    "    <b>Yield (tons/hectare):</b> {yield_value}<br>\n",
    "    <b>Crop with Max Yield:</b> {max_crop} ({max_yield} tons/hectare)\n",
    "    \"\"\"\n",
    "\n",
    "geojson_layer = folium.GeoJson(\n",
    "    geojson_data,\n",
    "    style_function=style_function,\n",
    "    tooltip=folium.GeoJsonTooltip(\n",
    "        fields=['admin', 'yield_t_ha'],\n",
    "        aliases=['Region:', 'Yield (tons/hectare):'],\n",
    "        localize=True\n",
    "    ),\n",
    "    name='Crop Yield Data'\n",
    ")\n",
    "\n",
    "# Attach popup content dynamically\n",
    "for feature in geojson_layer.data['features']:\n",
    "    feature['popup'] = popup_content(feature)\n",
    "\n",
    "geojson_layer.add_to(m)\n",
    "\n",
    "# Add a legend (color-coded bands)\n",
    "legend_html = \"\"\"\n",
    "<div style=\"position: fixed;\n",
    "            bottom: 50px; left: 50px; width: 240px; height: 180px;\n",
    "            background-color: white; border:2px solid grey; z-index:9999; font-size:14px;\n",
    "            padding: 10px;\">\n",
    "    <b>Crop Yield (tons/hectare)</b><br>\n",
    "    <i style=\"background: #006837; width: 20px; height: 10px; display: inline-block;\"></i> 300+<br>\n",
    "    <i style=\"background: #31a354; width: 20px; height: 10px; display: inline-block;\"></i> 250-300<br>\n",
    "    <i style=\"background: #78c679; width: 20px; height: 10px; display: inline-block;\"></i> 200-250<br>\n",
    "    <i style=\"background: #c2e699; width: 20px; height: 10px; display: inline-block;\"></i> 100-200<br>\n",
    "    <i style=\"background: #ffffcc; width: 20px; height: 10px; display: inline-block;\"></i> 0-100<br>\n",
    "</div>\n",
    "\"\"\"\n",
    "m.get_root().html.add_child(folium.Element(legend_html))\n",
    "\n",
    "# Add layer control to the map\n",
    "folium.LayerControl().add_to(m)\n",
    "\n",
    "# Save the map as an HTML file\n",
    "output_file = \"/Users/GURU/Desktop/Project3_Group1/crop_yield_map_with_enhanced_basemaps.html\"\n",
    "m.save(output_file)\n",
    "\n",
    "print(f\"Interactive map with enhanced basemaps and crop details saved to {output_file}\")\n",
    "\n"
   ]
  }
 ],
 "metadata": {
  "kernelspec": {
   "display_name": "dev",
   "language": "python",
   "name": "python3"
  },
  "language_info": {
   "codemirror_mode": {
    "name": "ipython",
    "version": 3
   },
   "file_extension": ".py",
   "mimetype": "text/x-python",
   "name": "python",
   "nbconvert_exporter": "python",
   "pygments_lexer": "ipython3",
   "version": "3.10.16"
  }
 },
 "nbformat": 4,
 "nbformat_minor": 5
}
